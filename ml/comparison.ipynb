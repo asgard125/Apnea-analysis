{
 "cells": [
  {
   "cell_type": "code",
   "execution_count": 1,
   "metadata": {},
   "outputs": [
    {
     "name": "stderr",
     "output_type": "stream",
     "text": [
      "2024-06-02 03:35:43.684061: I external/local_tsl/tsl/cuda/cudart_stub.cc:32] Could not find cuda drivers on your machine, GPU will not be used.\n",
      "2024-06-02 03:35:43.687158: I external/local_tsl/tsl/cuda/cudart_stub.cc:32] Could not find cuda drivers on your machine, GPU will not be used.\n",
      "2024-06-02 03:35:43.728781: I tensorflow/core/platform/cpu_feature_guard.cc:210] This TensorFlow binary is optimized to use available CPU instructions in performance-critical operations.\n",
      "To enable the following instructions: AVX2 FMA, in other operations, rebuild TensorFlow with the appropriate compiler flags.\n",
      "2024-06-02 03:35:44.420877: W tensorflow/compiler/tf2tensorrt/utils/py_utils.cc:38] TF-TRT Warning: Could not find TensorRT\n"
     ]
    }
   ],
   "source": [
    "from model import *\n",
    "\n",
    "model = ApnoeModel()\n",
    "X, y = model.X, model.y"
   ]
  },
  {
   "cell_type": "code",
   "execution_count": 2,
   "metadata": {},
   "outputs": [
    {
     "name": "stdout",
     "output_type": "stream",
     "text": [
      "[0.8625     0.82537878 0.92499998]\n",
      "[[0.80000001 0.75       0.89999998]\n",
      " [0.89999998 0.83333331 1.        ]\n",
      " [0.89999998 0.89999998 0.89999998]\n",
      " [0.85000002 0.81818181 0.89999998]]\n"
     ]
    }
   ],
   "source": [
    "scores = crossval_neunet(\n",
    "    X, y, 4, [20, 30, 10], \"relu\", \"sigmoid\", \"binary_crossentropy\", \"adam\", 80, 5\n",
    ")\n",
    "mean_metric = sum(scores[i] for i in range(len(scores))) / len(scores)\n",
    "\n",
    "print(mean_metric)\n",
    "print(scores)"
   ]
  },
  {
   "cell_type": "code",
   "execution_count": 3,
   "metadata": {},
   "outputs": [
    {
     "name": "stdout",
     "output_type": "stream",
     "text": [
      "[0.9        0.88282828 0.925     ]\n",
      "[[0.85       0.88888889 0.8       ]\n",
      " [0.9        0.83333333 1.        ]\n",
      " [0.9        0.9        0.9       ]\n",
      " [0.95       0.90909091 1.        ]]\n"
     ]
    }
   ],
   "source": [
    "scores = crossval_forest(X, y, 4)\n",
    "mean_metric = sum(scores[i] for i in range(len(scores))) / len(scores)\n",
    "\n",
    "print(mean_metric)\n",
    "print(scores)"
   ]
  },
  {
   "cell_type": "code",
   "execution_count": 4,
   "metadata": {},
   "outputs": [
    {
     "name": "stdout",
     "output_type": "stream",
     "text": [
      "[0.875      0.87449495 0.875     ]\n",
      "[[0.9        0.9        0.9       ]\n",
      " [0.8        0.8        0.8       ]\n",
      " [0.95       0.90909091 1.        ]\n",
      " [0.85       0.88888889 0.8       ]]\n"
     ]
    }
   ],
   "source": [
    "scores = crossval_catboost(X, y, 4)\n",
    "mean_metric = sum(scores[i] for i in range(len(scores))) / len(scores)\n",
    "\n",
    "print(mean_metric)\n",
    "print(scores)"
   ]
  }
 ],
 "metadata": {
  "kernelspec": {
   "display_name": "base",
   "language": "python",
   "name": "python3"
  },
  "language_info": {
   "codemirror_mode": {
    "name": "ipython",
    "version": 3
   },
   "file_extension": ".py",
   "mimetype": "text/x-python",
   "name": "python",
   "nbconvert_exporter": "python",
   "pygments_lexer": "ipython3",
   "version": "3.12.2"
  }
 },
 "nbformat": 4,
 "nbformat_minor": 2
}
