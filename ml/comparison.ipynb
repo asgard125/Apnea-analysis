{
 "cells": [
  {
   "cell_type": "code",
   "execution_count": 2,
   "metadata": {},
   "outputs": [],
   "source": [
    "from model import *\n",
    "\n",
    "model = ApnoeModel()\n",
    "X, y = model.X, model.y"
   ]
  },
  {
   "cell_type": "code",
   "execution_count": 11,
   "metadata": {},
   "outputs": [
    {
     "name": "stdout",
     "output_type": "stream",
     "text": [
      "accuracy: 0.82, precision: 0.8, recall: 0.87\n"
     ]
    }
   ],
   "source": [
    "scores = crossval_neunet(\n",
    "    X, y, 4, [20, 20, 10], \"relu\", \"sigmoid\", \"binary_crossentropy\", \"adam\", 80, 5\n",
    ")\n",
    "mean_metric = sum(scores[i] for i in range(len(scores))) / len(scores)\n",
    "\n",
    "print(\n",
    "    f\"accuracy: {round(mean_metric[0], 2)}, precision: {round(mean_metric[1], 2)}, recall: {round(mean_metric[2], 2)}\"\n",
    ")"
   ]
  },
  {
   "cell_type": "code",
   "execution_count": 16,
   "metadata": {},
   "outputs": [
    {
     "name": "stdout",
     "output_type": "stream",
     "text": [
      "accuracy: 0.81, precision: 0.8, recall: 0.82\n"
     ]
    }
   ],
   "source": [
    "scores = crossval_forest(X, y, 4)\n",
    "mean_metric = sum(scores[i] for i in range(len(scores))) / len(scores)\n",
    "\n",
    "print(\n",
    "    f\"accuracy: {round(mean_metric[0], 2)}, precision: {round(mean_metric[1], 2)}, recall: {round(mean_metric[2], 2)}\"\n",
    ")"
   ]
  },
  {
   "cell_type": "code",
   "execution_count": 22,
   "metadata": {},
   "outputs": [
    {
     "name": "stdout",
     "output_type": "stream",
     "text": [
      "accuracy: 0.85, precision: 0.85, recall: 0.85\n"
     ]
    }
   ],
   "source": [
    "scores = crossval_catboost(X, y, 4)\n",
    "mean_metric = sum(scores[i] for i in range(len(scores))) / len(scores)\n",
    "\n",
    "print(\n",
    "    f\"accuracy: {round(mean_metric[0], 2)}, precision: {round(mean_metric[1], 2)}, recall: {round(mean_metric[2], 2)}\"\n",
    ")"
   ]
  }
 ],
 "metadata": {
  "kernelspec": {
   "display_name": "base",
   "language": "python",
   "name": "python3"
  },
  "language_info": {
   "codemirror_mode": {
    "name": "ipython",
    "version": 3
   },
   "file_extension": ".py",
   "mimetype": "text/x-python",
   "name": "python",
   "nbconvert_exporter": "python",
   "pygments_lexer": "ipython3",
   "version": "3.12.2"
  }
 },
 "nbformat": 4,
 "nbformat_minor": 2
}
